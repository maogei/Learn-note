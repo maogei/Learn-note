{
 "cells": [
  {
   "cell_type": "markdown",
   "id": "rough-direction",
   "metadata": {},
   "source": [
    "### async & await 关键字"
   ]
  },
  {
   "cell_type": "markdown",
   "id": "ignored-palestinian",
   "metadata": {},
   "source": [
    "####  在python3.5及之后的版本"
   ]
  },
  {
   "cell_type": "markdown",
   "id": "rubber-optics",
   "metadata": {},
   "source": [
    "#### 实现协程 "
   ]
  },
  {
   "cell_type": "code",
   "execution_count": 1,
   "id": "empirical-green",
   "metadata": {},
   "outputs": [],
   "source": [
    "import asyncio\n",
    "\n",
    "#根据说明，IPython最新版本可能修复了问题，先尝试更新到最新版本IPython 7.10.2。\n",
    "import nest_asyncio\n",
    "nest_asyncio.apply()"
   ]
  },
  {
   "cell_type": "code",
   "execution_count": 2,
   "id": "romance-photographer",
   "metadata": {},
   "outputs": [],
   "source": [
    "async def func1():\n",
    "    print(1)\n",
    "    await asyncio.sleep(2)\n",
    "    print(2)\n",
    "    return \"func1\""
   ]
  },
  {
   "cell_type": "code",
   "execution_count": 3,
   "id": "incorrect-corpus",
   "metadata": {},
   "outputs": [],
   "source": [
    "async def func2():\n",
    "    print(3)\n",
    "    # 阻塞 并自动切换到其他tasks任务\n",
    "    await asyncio.sleep(2)\n",
    "    print(4)\n",
    "    return \"func2\""
   ]
  },
  {
   "cell_type": "code",
   "execution_count": 4,
   "id": "cheap-huntington",
   "metadata": {},
   "outputs": [
    {
     "data": {
      "text/plain": [
       "'\\ntasks = [\\n    asyncio.ensure_future( func1() ),\\n    asyncio.ensure_future( func2() )\\n]\\n#\\u3000生成／获取一个事件循环\\nloop = asyncio.get_event_loop()  \\n\\n#将任务放到\\u3000任务列表\\nloop.run_until_complete(asyncio.wait(tasks))\\n'"
      ]
     },
     "execution_count": 4,
     "metadata": {},
     "output_type": "execute_result"
    }
   ],
   "source": [
    "\"\"\"\n",
    "tasks = [\n",
    "    asyncio.ensure_future( func1() ),\n",
    "    asyncio.ensure_future( func2() )\n",
    "]\n",
    "#　生成／获取一个事件循环\n",
    "loop = asyncio.get_event_loop()  \n",
    "\n",
    "#将任务放到　任务列表\n",
    "loop.run_until_complete(asyncio.wait(tasks))\n",
    "\"\"\""
   ]
  },
  {
   "cell_type": "code",
   "execution_count": 5,
   "id": "pregnant-sharing",
   "metadata": {},
   "outputs": [],
   "source": [
    "#python 3.7 后写法"
   ]
  },
  {
   "cell_type": "code",
   "execution_count": 6,
   "id": "driven-cooperative",
   "metadata": {},
   "outputs": [
    {
     "name": "stdout",
     "output_type": "stream",
     "text": [
      "1\n",
      "3\n",
      "2\n",
      "4\n",
      "--- ({<Task finished name='Task-3' coro=<func2() done, defined at <ipython-input-3-f61247becde1>:1> result='func2'>, <Task finished name='Task-2' coro=<func1() done, defined at <ipython-input-2-226a1ba29b7f>:1> result='func1'>}, set())\n"
     ]
    }
   ],
   "source": [
    "async def main():\n",
    "    task_list = [\n",
    "        asyncio.create_task( func1() ),\n",
    "        asyncio.create_task( func2() )\n",
    "    ]\n",
    "    f = await asyncio.wait( task_list,timeout=None ) # 指定最多等待的时间\n",
    "    print(\"---\",f)\n",
    "asyncio.run( main() )"
   ]
  },
  {
   "cell_type": "code",
   "execution_count": 7,
   "id": "meaningful-spain",
   "metadata": {},
   "outputs": [
    {
     "name": "stdout",
     "output_type": "stream",
     "text": [
      "3\n",
      "1\n",
      "4\n",
      "2\n",
      "({<Task finished name='Task-6' coro=<func1() done, defined at <ipython-input-2-226a1ba29b7f>:1> result='func1'>, <Task finished name='Task-5' coro=<func2() done, defined at <ipython-input-3-f61247becde1>:1> result='func2'>}, set())\n"
     ]
    }
   ],
   "source": [
    "\n",
    "task_list = [\n",
    "    func1(),\n",
    "    func2()\n",
    "]\n",
    "f = asyncio.run( asyncio.wait(task_list) )\n",
    "print(f)"
   ]
  },
  {
   "cell_type": "code",
   "execution_count": null,
   "id": "outstanding-ranch",
   "metadata": {},
   "outputs": [],
   "source": []
  }
 ],
 "metadata": {
  "kernelspec": {
   "display_name": "Python 3",
   "language": "python",
   "name": "python3"
  },
  "language_info": {
   "codemirror_mode": {
    "name": "ipython",
    "version": 3
   },
   "file_extension": ".py",
   "mimetype": "text/x-python",
   "name": "python",
   "nbconvert_exporter": "python",
   "pygments_lexer": "ipython3",
   "version": "3.8.5"
  }
 },
 "nbformat": 4,
 "nbformat_minor": 5
}
