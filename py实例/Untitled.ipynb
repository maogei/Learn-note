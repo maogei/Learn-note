{
 "cells": [
  {
   "cell_type": "code",
   "execution_count": 1,
   "id": "improving-cameroon",
   "metadata": {},
   "outputs": [],
   "source": [
    "import time\n",
    "from threading import Thread, Lock\n",
    "\n",
    "num = 0"
   ]
  },
  {
   "cell_type": "code",
   "execution_count": 2,
   "id": "changed-zambia",
   "metadata": {},
   "outputs": [],
   "source": [
    "def test1():\n",
    "    global num\n",
    "    for i in range(1000000):\n",
    "        num += 1\n",
    "        \n",
    "    print(\"num:\",num)"
   ]
  },
  {
   "cell_type": "code",
   "execution_count": null,
   "id": "reported-expert",
   "metadata": {},
   "outputs": [],
   "source": []
  },
  {
   "cell_type": "code",
   "execution_count": 3,
   "id": "metric-effect",
   "metadata": {},
   "outputs": [
    {
     "name": "stdout",
     "output_type": "stream",
     "text": [
      "num: 1232687\n",
      "num: 1484516\n"
     ]
    }
   ],
   "source": [
    "t1 = Thread(target=test1)\n",
    "t2 = Thread(target=test1)\n",
    "\n",
    "t1.start()\n",
    "t2.start()\n",
    "t1.join()\n",
    "t2.join()"
   ]
  },
  {
   "cell_type": "code",
   "execution_count": null,
   "id": "opened-boring",
   "metadata": {},
   "outputs": [],
   "source": []
  }
 ],
 "metadata": {
  "kernelspec": {
   "display_name": "Python 3",
   "language": "python",
   "name": "python3"
  },
  "language_info": {
   "codemirror_mode": {
    "name": "ipython",
    "version": 3
   },
   "file_extension": ".py",
   "mimetype": "text/x-python",
   "name": "python",
   "nbconvert_exporter": "python",
   "pygments_lexer": "ipython3",
   "version": "3.8.5"
  }
 },
 "nbformat": 4,
 "nbformat_minor": 5
}
